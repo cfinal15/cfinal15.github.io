{
 "cells": [
  {
   "cell_type": "markdown",
   "id": "c69563b3-90ff-4f6f-9220-c7ec0bd123b3",
   "metadata": {},
   "source": [
    "# Unit 5 e-Portfolio Activity: Jaccard Coefficient Calculations\n",
    "The Jaccard similarity test or Jaccard coefficient, is a statistical measure used to compare the similarity and diversity of sample sets. It quantifies how similar two sets are by dividing the size of their intersection by the size of their union. This test is particularly useful in various fields, including bioinformatics, ecology, and information retrieval, where it helps in tasks such as comparing genetic sequences, assessing species similarity in ecological datasets, and evaluating the relevance of search results. The Jaccard test provides a simple yet effective way to understand and quantify the overlap and differences between sets.\n",
    "\n",
    "It's quite simply (number of matches)/(number of options). However, it can be innacurate when matching values without looking at column header. For example, jaccard score is 1.0 for jack/jim but index 3/4 swap place for P and N values. \n",
    "\n",
    "Go to my github page (https://github.com/cfinal15/cfinal15.github.io/blob/28afad90936494a50ef620a20a7255cd8fa22fd0/Machine%20Learning/Unit%20Datasets/Unit%205%20Jackard%20test%20data.csv), to see the dataset given to perform the jaccard on. "
   ]
  },
  {
   "cell_type": "code",
   "execution_count": 1,
   "id": "46e4f876-bd18-4456-b36d-95f72b4aa918",
   "metadata": {},
   "outputs": [
    {
     "name": "stdout",
     "output_type": "stream",
     "text": [
      "Jaccard Similarity between Jack and Mary: 0.6666666666666666\n",
      "Jaccard Similarity between Jack and Jim: 1.0\n",
      "Jaccard Similarity between Mary and Jim: 0.6666666666666666\n"
     ]
    }
   ],
   "source": [
    "def jaccard_similarity(set1, set2):\n",
    "    intersection = len(set1.intersection(set2))\n",
    "    union = len(set1.union(set2))\n",
    "    return intersection / union\n",
    "\n",
    "# Define the sets for each individual\n",
    "jack = {\"M\", \"Y\", \"N\", \"P\", \"N\", \"N\", \"A\"}\n",
    "mary = {\"F\", \"Y\", \"N\", \"P\", \"A\", \"P\", \"N\"}\n",
    "jim = {\"M\", \"Y\", \"P\", \"N\", \"N\", \"N\", \"A\"}\n",
    "\n",
    "# Removing duplicates by converting list to set\n",
    "jack = set(jack)\n",
    "mary = set(mary)\n",
    "jim = set(jim)\n",
    "\n",
    "# Calculate Jaccard similarity for each pair\n",
    "jaccard_Jack_Mary = jaccard_similarity(jack, mary)\n",
    "jaccard_Jack_Jim = jaccard_similarity(jack, jim)\n",
    "jaccard_Mary_Jim = jaccard_similarity(mary, jim)\n",
    "\n",
    "# Print the results\n",
    "print(f\"Jaccard Similarity between Jack and Mary: {jaccard_Jack_Mary}\")\n",
    "print(f\"Jaccard Similarity between Jack and Jim: {jaccard_Jack_Jim}\")\n",
    "print(f\"Jaccard Similarity between Mary and Jim: {jaccard_Mary_Jim}\")\n"
   ]
  },
  {
   "cell_type": "code",
   "execution_count": null,
   "id": "608fb1c8-1b2c-4bc4-8d62-e349206d334d",
   "metadata": {},
   "outputs": [],
   "source": []
  }
 ],
 "metadata": {
  "kernelspec": {
   "display_name": "Python 3 (ipykernel)",
   "language": "python",
   "name": "python3"
  },
  "language_info": {
   "codemirror_mode": {
    "name": "ipython",
    "version": 3
   },
   "file_extension": ".py",
   "mimetype": "text/x-python",
   "name": "python",
   "nbconvert_exporter": "python",
   "pygments_lexer": "ipython3",
   "version": "3.11.3"
  }
 },
 "nbformat": 4,
 "nbformat_minor": 5
}
